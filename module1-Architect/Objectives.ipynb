{
 "cells": [
  {
   "cell_type": "markdown",
   "metadata": {},
   "source": [
    "# Objective 01 - Describe the Foundational Components of a Neural Network\n",
    "## Overview\n",
    "Later in this module, we will use a few handy tools to architect and train neural networks. But before we dive into that, we need to understand much more basic concepts of neural networks. As you can see from the name, neural networks use neurons, a digital-analog of a biological neuron. These neurons are linked or networked in a certain way to form a neural network. Essentially, a neural network is a computational model that works similarly to the human (or animal) brain.\n",
    "\n",
    "Neural networks range from simple single-layer perceptrons to complex ones with many hidden layers composed of many neurons. The complexity of the neural network depends on the dataset and the problem to solve.\n",
    "\n",
    "### Perceptron\n",
    "A neuron can be a single unit that accepts input (data) and provides output. The value of the output depends on the activation threshold of the neuron. The neuron will \"fire\" if the input is above the threshold; otherwise, the output is zero.\n",
    "\n",
    "The input to this perceptron is the data multiplied by a set of weights. The weights are updated for each iteration or pass through the network. The weighted input is then passed to the activation function. This function maps the input to the output, which depends on the function.\n",
    "\n",
    "We start with some input data and a set of weights to apply to that data. The one part we haven't mentioned yet is how a neural network learns. On the first iteration, the weights are selected randomly. Then, the weights are adjusted after the calculated results are compared to the expected results (using training data). Finally, these new weights are used to calculate the weighted sum, new results are calculated, and so on for the number of iterations specified.\n",
    "\n",
    "## Follow Along\n",
    "Let's implement a simple single-layer perceptron to explain better what we learned in the overview. It will be easier to understand how the different components of a neural network fit together with some example code.\n",
    "\n",
    "In the following example, we'll describe and implement the following parts of a neural network:\n",
    "\n",
    "- activation function\n",
    "- input data\n",
    "- weights\n",
    "- learning rate\n",
    "### Activation function\n",
    "The activation function maps the input to the output. This example uses a step function where the output is 0 if the sum of the weighted input is less than 0 and 1 otherwise. Again, a visualization of the function will help."
   ]
  },
  {
   "cell_type": "code",
   "execution_count": 24,
   "metadata": {},
   "outputs": [
    {
     "data": {
      "image/png": "[encoded data removed]",
      "text/plain": [
       "<Figure size 432x288 with 1 Axes>"
      ]
     },
     "metadata": {
      "needs_background": "light"
     },
     "output_type": "display_data"
    }
   ],
   "source": [
    "import numpy as np\n",
    "import matplotlib.pyplot as plt\n",
    "\n",
    "# Define the activation function\n",
    "unit_step = lambda x: 0 if x < 0 else 1\n",
    "\n",
    "# Vectorize the function (use on an array)\n",
    "unit_step_v = np.vectorize(unit_step)\n",
    "\n",
    "# Create arrays to plot\n",
    "x = np.arange(-5, 5, 0.1)\n",
    "y = unit_step_v(x)\n",
    "\n",
    "# Plot\n",
    "plt.plot(x, y)\n",
    "plt.xlabel('input'); plt.ylabel('step function output');\n",
    "\n",
    "# plt.clf() # comment/delete to show plot"
   ]
  },
  {
   "cell_type": "code",
   "execution_count": 2,
   "metadata": {},
   "outputs": [
    {
     "name": "stdout",
     "output_type": "stream",
     "text": [
      "[7, -4, 8, 6, -5]\n"
     ]
    }
   ],
   "source": [
    "import random\n",
    "# Empty set for reusability\n",
    "randomlist = []\n",
    "# Loop 5 times generating nums \n",
    "for i in range(0,5): # range 0 through 4\n",
    "\tn = random.randint(-10,10)\n",
    "\trandomlist.append(n)\n",
    "print(randomlist)"
   ]
  },
  {
   "cell_type": "code",
   "execution_count": 21,
   "metadata": {},
   "outputs": [
    {
     "data": {
      "text/plain": [
       "array([False, False,  True,  True])"
      ]
     },
     "execution_count": 21,
     "metadata": {},
     "output_type": "execute_result"
    }
   ],
   "source": [
    "\n",
    "import numpy as np\n",
    "def myfunc(a):\n",
    "    \"Return a-b if a>b, otherwise return a+b\"\n",
    "    if a > 2:\n",
    "        return bool(True)\n",
    "    else: return bool(False)\n",
    "# vectorize iterates function.\n",
    "vfunc = np.vectorize(myfunc)\n",
    "vfunc([1, 2, 3, 4])\n"
   ]
  },
  {
   "cell_type": "markdown",
   "metadata": {},
   "source": [
    "Next, we'll define some data to test, which in this case will be the logical OR operator: for input that includes a 1, the output is 1; otherwise, the output is 0. We'll consider an input array of two values so the possible choices are: [0,0], [0,1], [1,0], [1,1]. There is also a bias term, which is currently set to 1 for all inputs (we can use the bias to adjust the threshold; we will focus on the weights only first). The other part of the training data is the expected output, 0 for [0,0] and 1 for the rest of the inputs."
   ]
  },
  {
   "cell_type": "code",
   "execution_count": 22,
   "metadata": {},
   "outputs": [],
   "source": [
    "# Data ('OR' gate)\n",
    "# tuple format: ([x1, x2, bias], expected)\n",
    "training_data = [\n",
    "    (np.array([0,0,1]), 0),\n",
    "    (np.array([0,1,1]), 1),\n",
    "    (np.array([1,0,1]), 1),\n",
    "    (np.array([1,1,1]), 1),\n",
    "]"
   ]
  },
  {
   "cell_type": "markdown",
   "metadata": {},
   "source": [
    "Now we'll code the perceptron. First, we'll initialize the weights using random numbers between 0 and 1. Then we'll set the learning rate as 0.2 (we'll learn more about the learning rate in the next module). We'll start with a low number of iterations so we can easily look through our output.\n",
    "# Perceptron code follows the example here, with\n",
    "# some modifications: \n",
    "# https://blog.dbrgn.ch/2013/3/26/perceptrons-in-python/\n"
   ]
  },
  {
   "cell_type": "code",
   "execution_count": 25,
   "metadata": {},
   "outputs": [
    {
     "name": "stdout",
     "output_type": "stream",
     "text": [
      "[0 0]: -0.1514812348736393 -> 0\n",
      "[0 1]: 0.52280979642973 -> 1\n",
      "[1 0]: 0.8052107186547842 -> 1\n",
      "[1 1]: 1.4795017499581538 -> 1\n"
     ]
    }
   ],
   "source": [
    "from random import choice   # Imports #for random input selection\n",
    "w = np.random.rand(3)       # Weights (begin with random weights)\n",
    "errors = []                 # Errors (store for plotting)\n",
    "learn_rate = 0.2            # Learning rate (the size of \"jumps\" when updating the weights)\n",
    "n = 50                      # Number of iterations/weight updates\n",
    "for i in range(n):          # \"Learning\" loop\n",
    "    x, expected = choice(training_data) # Select a random item from the training data\n",
    "    result = np.dot(w, x)   # Neuron calculation (dot product of weights and input)\n",
    "    error = expected - unit_step(result) # Compare to the expected result\n",
    "    errors.append(error)\n",
    "    w += learn_rate * error * x # Update the weights\n",
    "for x, _ in training_data:  # Test the perceptron with the \"learned\" weights\n",
    "    result = np.dot(x, w)\n",
    "    print(\"{}: {} -> {}\".format(x[:2], result, unit_step(result)))"
   ]
  }
 ],
 "metadata": {
  "interpreter": {
   "hash": "197b4b3b7e4e7cf2cb1e2df97753f20b126ca79c47e8ad655a5130b1a1137e29"
  },
  "kernelspec": {
   "display_name": "Python 3.8.10 ('.venv': venv)",
   "language": "python",
   "name": "python3"
  },
  "language_info": {
   "codemirror_mode": {
    "name": "ipython",
    "version": 3
   },
   "file_extension": ".py",
   "mimetype": "text/x-python",
   "name": "python",
   "nbconvert_exporter": "python",
   "pygments_lexer": "ipython3",
   "version": "3.8.10"
  },
  "orig_nbformat": 4
 },
 "nbformat": 4,
 "nbformat_minor": 2
}
